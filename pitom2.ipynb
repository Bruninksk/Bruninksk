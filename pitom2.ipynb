{
  "nbformat": 4,
  "nbformat_minor": 0,
  "metadata": {
    "colab": {
      "provenance": [],
      "authorship_tag": "ABX9TyOTZlE7edXZqVb19ty5IyzV",
      "include_colab_link": true
    },
    "kernelspec": {
      "name": "python3",
      "display_name": "Python 3"
    },
    "language_info": {
      "name": "python"
    }
  },
  "cells": [
    {
      "cell_type": "markdown",
      "metadata": {
        "id": "view-in-github",
        "colab_type": "text"
      },
      "source": [
        "<a href=\"https://colab.research.google.com/github/Bruninksk/Bruninksk/blob/main/pitom2.ipynb\" target=\"_parent\"><img src=\"https://colab.research.google.com/assets/colab-badge.svg\" alt=\"Open In Colab\"/></a>"
      ]
    },
    {
      "cell_type": "code",
      "execution_count": 6,
      "metadata": {
        "colab": {
          "base_uri": "https://localhost:8080/"
        },
        "id": "u2tVBQ4ORJrM",
        "outputId": "e601a6fa-183e-437c-8372-47df1d8e276d"
      },
      "outputs": [
        {
          "output_type": "stream",
          "name": "stdout",
          "text": [
            "N° 1:2\n",
            "N° 2:3\n",
            "5.0\n"
          ]
        }
      ],
      "source": [
        "numero = float(input(\"N° 1:\"))\n",
        "numero2 = float(input(\"N° 2:\"))\n",
        "soma = numero + numero2\n",
        "\n",
        "print(soma)"
      ]
    }
  ]
}
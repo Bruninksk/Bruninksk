{
  "nbformat": 4,
  "nbformat_minor": 0,
  "metadata": {
    "colab": {
      "provenance": [],
      "authorship_tag": "ABX9TyMdbMRri67d44qWnbOqYAP0",
      "include_colab_link": true
    },
    "kernelspec": {
      "name": "python3",
      "display_name": "Python 3"
    },
    "language_info": {
      "name": "python"
    }
  },
  "cells": [
    {
      "cell_type": "markdown",
      "metadata": {
        "id": "view-in-github",
        "colab_type": "text"
      },
      "source": [
        "<a href=\"https://colab.research.google.com/github/Bruninksk/Bruninksk/blob/main/pitom2.ipynb\" target=\"_parent\"><img src=\"https://colab.research.google.com/assets/colab-badge.svg\" alt=\"Open In Colab\"/></a>"
      ]
    },
    {
      "cell_type": "code",
      "execution_count": null,
      "metadata": {
        "id": "u2tVBQ4ORJrM"
      },
      "outputs": [],
      "source": [
        "numero = float(input(\"N° 1:\"))\n",
        "numero2 = float(input(\"N° 2:\"))\n",
        "soma = numero + numero2\n",
        "\n",
        "print(soma)"
      ]
    },
    {
      "cell_type": "code",
      "source": [
        "from time import sleep\n",
        "numero = int(input(\"N°\"))\n",
        "print(\"processando...\")\n",
        "sleep(2)\n",
        "#Processamento\n",
        "if numero % 2 ==0:\n",
        "  print(\"o resultado é Par.\")\n",
        "  resultado = \"par\"\n",
        "else:\n",
        "    resultado = \"impar\"\n",
        "    print(\"o resultado é Impar.\")"
      ],
      "metadata": {
        "colab": {
          "base_uri": "https://localhost:8080/"
        },
        "id": "QxxBtIF4VBpI",
        "outputId": "69223db4-de81-4b46-a93b-7a0e0f820eb8"
      },
      "execution_count": 14,
      "outputs": [
        {
          "output_type": "stream",
          "name": "stdout",
          "text": [
            "N°2\n",
            "processando...\n",
            "o resultado é Par.\n"
          ]
        }
      ]
    }
  ]
}